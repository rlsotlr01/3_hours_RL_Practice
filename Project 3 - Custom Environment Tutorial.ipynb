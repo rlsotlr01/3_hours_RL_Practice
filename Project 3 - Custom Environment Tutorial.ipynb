{
 "cells": [
  {
   "cell_type": "markdown",
   "id": "7749fa13",
   "metadata": {},
   "source": [
    "# 1. Import Dependencies"
   ]
  },
  {
   "cell_type": "code",
   "execution_count": 1,
   "id": "6ab4d2cd",
   "metadata": {
    "ExecuteTime": {
     "end_time": "2022-06-28T09:29:49.701194Z",
     "start_time": "2022-06-28T09:29:47.200553Z"
    }
   },
   "outputs": [
    {
     "name": "stderr",
     "output_type": "stream",
     "text": [
      "C:\\Users\\iDLaber\\miniconda3\\envs\\baselines\\lib\\site-packages\\tqdm\\auto.py:22: TqdmWarning: IProgress not found. Please update jupyter and ipywidgets. See https://ipywidgets.readthedocs.io/en/stable/user_install.html\n",
      "  from .autonotebook import tqdm as notebook_tqdm\n"
     ]
    }
   ],
   "source": [
    "# Import Gym Stuff\n",
    "import gym\n",
    "from gym import Env # New stuff\n",
    "from gym.spaces import Discrete, Box, Dict, Tuple, MultiBinary, MultiDiscrete # New stuff\n",
    "\n",
    "# Import helpers\n",
    "import numpy as np\n",
    "import random\n",
    "import os\n",
    "\n",
    "# Import stable baselines stuff\n",
    "from stable_baselines3 import PPO\n",
    "from stable_baselines3.common.vec_env import DummyVecEnv\n",
    "from stable_baselines3.common.evaluation import evaluate_policy"
   ]
  },
  {
   "cell_type": "markdown",
   "id": "5be9c24e",
   "metadata": {},
   "source": [
    "# 2. Types of Spaces "
   ]
  },
  {
   "cell_type": "code",
   "execution_count": 2,
   "id": "8b943f8c",
   "metadata": {
    "ExecuteTime": {
     "end_time": "2022-06-28T09:29:49.717199Z",
     "start_time": "2022-06-28T09:29:49.704188Z"
    }
   },
   "outputs": [
    {
     "data": {
      "text/plain": [
       "2"
      ]
     },
     "execution_count": 2,
     "metadata": {},
     "output_type": "execute_result"
    }
   ],
   "source": [
    "Discrete(3).sample()"
   ]
  },
  {
   "cell_type": "code",
   "execution_count": 3,
   "id": "0c9629fa",
   "metadata": {
    "ExecuteTime": {
     "end_time": "2022-06-28T09:29:49.813443Z",
     "start_time": "2022-06-28T09:29:49.719180Z"
    }
   },
   "outputs": [
    {
     "data": {
      "text/plain": [
       "array([[0.9232501 , 0.37715292, 0.1928447 ],\n",
       "       [0.7978541 , 0.59528553, 0.33386797],\n",
       "       [0.66028327, 0.49496475, 0.39551896]], dtype=float32)"
      ]
     },
     "execution_count": 3,
     "metadata": {},
     "output_type": "execute_result"
    }
   ],
   "source": [
    "Box(0,1, shape=(3,3)).sample() # 3*3 space, but the value between 0 and 1"
   ]
  },
  {
   "cell_type": "code",
   "execution_count": 4,
   "id": "fc9e4192",
   "metadata": {
    "ExecuteTime": {
     "end_time": "2022-06-28T09:29:49.984244Z",
     "start_time": "2022-06-28T09:29:49.818439Z"
    }
   },
   "outputs": [
    {
     "data": {
      "text/plain": [
       "(2, array([0.37693185, 0.35651517, 0.15531203], dtype=float32))"
      ]
     },
     "execution_count": 4,
     "metadata": {},
     "output_type": "execute_result"
    }
   ],
   "source": [
    "Tuple((Discrete(3), Box(0,1,shape=(3,)))).sample()"
   ]
  },
  {
   "cell_type": "code",
   "execution_count": 5,
   "id": "d6069598",
   "metadata": {
    "ExecuteTime": {
     "end_time": "2022-06-28T09:29:50.063326Z",
     "start_time": "2022-06-28T09:29:49.988239Z"
    }
   },
   "outputs": [
    {
     "data": {
      "text/plain": [
       "OrderedDict([('color', array([0, 0, 1], dtype=int8)),\n",
       "             ('height', 1),\n",
       "             ('speed', array([52.42343], dtype=float32))])"
      ]
     },
     "execution_count": 5,
     "metadata": {},
     "output_type": "execute_result"
    }
   ],
   "source": [
    "Dict({'height':Discrete(2), \"speed\":Box(0,100,shape=(1,)), 'color': MultiBinary(3)}).sample()"
   ]
  },
  {
   "cell_type": "code",
   "execution_count": 6,
   "id": "4e88aa40",
   "metadata": {
    "ExecuteTime": {
     "end_time": "2022-06-28T09:29:50.173575Z",
     "start_time": "2022-06-28T09:29:50.067325Z"
    }
   },
   "outputs": [
    {
     "data": {
      "text/plain": [
       "array([1, 0, 1, 1], dtype=int8)"
      ]
     },
     "execution_count": 6,
     "metadata": {},
     "output_type": "execute_result"
    }
   ],
   "source": [
    "MultiBinary(4).sample()"
   ]
  },
  {
   "cell_type": "code",
   "execution_count": 7,
   "id": "e58f3ca6",
   "metadata": {
    "ExecuteTime": {
     "end_time": "2022-06-28T09:29:50.314183Z",
     "start_time": "2022-06-28T09:29:50.175522Z"
    }
   },
   "outputs": [
    {
     "data": {
      "text/plain": [
       "array([1, 0, 1], dtype=int64)"
      ]
     },
     "execution_count": 7,
     "metadata": {},
     "output_type": "execute_result"
    }
   ],
   "source": [
    "MultiDiscrete([5,2,2]).sample() # lower 5, lower 2, lower 2 sampleing"
   ]
  },
  {
   "cell_type": "markdown",
   "id": "486bf12b",
   "metadata": {},
   "source": [
    "# 3. Building an Environment\n",
    "- Build an agent to give us the best shower possible\n",
    "- Randomly temperature\n",
    "- 37 and 39 degrees"
   ]
  },
  {
   "cell_type": "code",
   "execution_count": 8,
   "id": "75f30f29",
   "metadata": {
    "ExecuteTime": {
     "end_time": "2022-06-28T09:29:50.440407Z",
     "start_time": "2022-06-28T09:29:50.318183Z"
    }
   },
   "outputs": [
    {
     "name": "stderr",
     "output_type": "stream",
     "text": [
      "C:\\Users\\iDLaber\\miniconda3\\envs\\baselines\\lib\\site-packages\\gym\\spaces\\box.py:73: UserWarning: \u001b[33mWARN: Box bound precision lowered by casting to float32\u001b[0m\n",
      "  logger.warn(\n"
     ]
    },
    {
     "data": {
      "text/plain": [
       "array([25.827604], dtype=float32)"
      ]
     },
     "execution_count": 8,
     "metadata": {},
     "output_type": "execute_result"
    }
   ],
   "source": [
    "Box(low = np.array([0]), high=np.array([100]),shape=(1,)).sample()"
   ]
  },
  {
   "cell_type": "code",
   "execution_count": 9,
   "id": "cfa6b210",
   "metadata": {
    "ExecuteTime": {
     "end_time": "2022-06-28T09:29:50.612263Z",
     "start_time": "2022-06-28T09:29:50.443401Z"
    }
   },
   "outputs": [
    {
     "name": "stdout",
     "output_type": "stream",
     "text": [
      "1 0\n"
     ]
    }
   ],
   "source": [
    "val = Discrete(3).sample()\n",
    "print(val, val-1)"
   ]
  },
  {
   "cell_type": "code",
   "execution_count": 10,
   "id": "a5a7f1f2",
   "metadata": {
    "ExecuteTime": {
     "end_time": "2022-06-28T09:29:50.736461Z",
     "start_time": "2022-06-28T09:29:50.617244Z"
    }
   },
   "outputs": [],
   "source": [
    "class ShowerEnv(Env):\n",
    "    def __init__(self):\n",
    "        self.action_space = Discrete(3)\n",
    "        self.observation_space = Box(low = np.array([0]), high=np.array([100]), shape=(1,))\n",
    "        self.state = 38+random.randint(-3,3) # Initial State - 38 degree +- 3 -> goal: 37~39\n",
    "        self.shower_length = 60 \n",
    "        \n",
    "    def step(self, action):\n",
    "        # shower length is decreased by 1 second every step\n",
    "        \n",
    "        # Apply temperature adj\n",
    "        self.state += action-1\n",
    "        \n",
    "        # Decrease shower time\n",
    "        self.shower_length -= 1\n",
    "        \n",
    "        # Calculate Reward\n",
    "        if self.state >= 37 and self.state <= 39:\n",
    "            reward = 1\n",
    "        else:\n",
    "            reward = -1\n",
    "        \n",
    "        if self.shower_length <= 0:\n",
    "            done = True\n",
    "        else:\n",
    "            done = False\n",
    "        \n",
    "        info = {}\n",
    "        return self.state, reward, done, info\n",
    "        \n",
    "    def render(self):\n",
    "        # No render\n",
    "        pass\n",
    "    \n",
    "    def reset(self):\n",
    "        # Reset initial temperature and shower time\n",
    "        self.state = np.array([38+random.randint(-3,3)]).astype(float)\n",
    "        self.shower_length = 60\n",
    "        return self.state\n",
    "    \n"
   ]
  },
  {
   "cell_type": "code",
   "execution_count": 11,
   "id": "63c22883",
   "metadata": {
    "ExecuteTime": {
     "end_time": "2022-06-28T09:29:50.830106Z",
     "start_time": "2022-06-28T09:29:50.738430Z"
    }
   },
   "outputs": [],
   "source": [
    "env = ShowerEnv()"
   ]
  },
  {
   "cell_type": "code",
   "execution_count": 12,
   "id": "3d417bec",
   "metadata": {
    "ExecuteTime": {
     "end_time": "2022-06-28T09:29:50.909059Z",
     "start_time": "2022-06-28T09:29:50.840101Z"
    }
   },
   "outputs": [
    {
     "data": {
      "text/plain": [
       "0"
      ]
     },
     "execution_count": 12,
     "metadata": {},
     "output_type": "execute_result"
    }
   ],
   "source": [
    "env.action_space.sample()"
   ]
  },
  {
   "cell_type": "code",
   "execution_count": 13,
   "id": "36cc892d",
   "metadata": {
    "ExecuteTime": {
     "end_time": "2022-06-28T09:29:50.988132Z",
     "start_time": "2022-06-28T09:29:50.913056Z"
    }
   },
   "outputs": [
    {
     "data": {
      "text/plain": [
       "array([11.314268], dtype=float32)"
      ]
     },
     "execution_count": 13,
     "metadata": {},
     "output_type": "execute_result"
    }
   ],
   "source": [
    "env.observation_space.sample()"
   ]
  },
  {
   "cell_type": "markdown",
   "id": "55aae7ac",
   "metadata": {},
   "source": [
    "# 4. Test Environment"
   ]
  },
  {
   "cell_type": "code",
   "execution_count": 14,
   "id": "b7a0fdf3",
   "metadata": {
    "ExecuteTime": {
     "end_time": "2022-06-28T09:29:51.068375Z",
     "start_time": "2022-06-28T09:29:50.990105Z"
    }
   },
   "outputs": [
    {
     "name": "stdout",
     "output_type": "stream",
     "text": [
      "Episode:1 Score:-56\n",
      "Episode:2 Score:-8\n",
      "Episode:3 Score:-12\n",
      "Episode:4 Score:-30\n",
      "Episode:5 Score:-24\n"
     ]
    }
   ],
   "source": [
    "episodes = 5\n",
    "for episode in range(1, episodes+1):\n",
    "    obs = env.reset()\n",
    "    done = False\n",
    "    score = 0\n",
    "    \n",
    "    while not done:\n",
    "        env.render()\n",
    "        action = env.action_space.sample()\n",
    "        obs, reward, done, info = env.step(action)\n",
    "        score += reward\n",
    "    print('Episode:{} Score:{}'.format(episode, score))\n",
    "# env.close()"
   ]
  },
  {
   "cell_type": "code",
   "execution_count": null,
   "id": "5ce72ddc",
   "metadata": {},
   "outputs": [],
   "source": []
  },
  {
   "cell_type": "markdown",
   "id": "176d5943",
   "metadata": {},
   "source": [
    "# 5. Train Model"
   ]
  },
  {
   "cell_type": "code",
   "execution_count": 15,
   "id": "be39d65e",
   "metadata": {
    "ExecuteTime": {
     "end_time": "2022-06-28T09:29:51.162355Z",
     "start_time": "2022-06-28T09:29:51.071361Z"
    }
   },
   "outputs": [
    {
     "name": "stdout",
     "output_type": "stream",
     "text": [
      "Using cpu device\n",
      "Wrapping the env with a `Monitor` wrapper\n",
      "Wrapping the env in a DummyVecEnv.\n"
     ]
    }
   ],
   "source": [
    "log_path = os.path.join('Training','Logs')\n",
    "model = PPO('MlpPolicy',env, verbose=1, tensorboard_log = log_path)\n",
    "# Tabular data, Tensor-based data -> use MlpPolicy"
   ]
  },
  {
   "cell_type": "code",
   "execution_count": 16,
   "id": "8679d7e4",
   "metadata": {
    "ExecuteTime": {
     "end_time": "2022-06-28T09:30:36.482454Z",
     "start_time": "2022-06-28T09:29:51.165354Z"
    }
   },
   "outputs": [
    {
     "name": "stdout",
     "output_type": "stream",
     "text": [
      "Logging to Training\\Logs\\PPO_15\n",
      "---------------------------------\n",
      "| rollout/           |          |\n",
      "|    ep_len_mean     | 60       |\n",
      "|    ep_rew_mean     | -28.4    |\n",
      "| time/              |          |\n",
      "|    fps             | 1670     |\n",
      "|    iterations      | 1        |\n",
      "|    time_elapsed    | 1        |\n",
      "|    total_timesteps | 2048     |\n",
      "---------------------------------\n",
      "-----------------------------------------\n",
      "| rollout/                |             |\n",
      "|    ep_len_mean          | 60          |\n",
      "|    ep_rew_mean          | -31.6       |\n",
      "| time/                   |             |\n",
      "|    fps                  | 1161        |\n",
      "|    iterations           | 2           |\n",
      "|    time_elapsed         | 3           |\n",
      "|    total_timesteps      | 4096        |\n",
      "| train/                  |             |\n",
      "|    approx_kl            | 0.011184023 |\n",
      "|    clip_fraction        | 0.108       |\n",
      "|    clip_range           | 0.2         |\n",
      "|    entropy_loss         | -1.09       |\n",
      "|    explained_variance   | 0.00133     |\n",
      "|    learning_rate        | 0.0003      |\n",
      "|    loss                 | 20.9        |\n",
      "|    n_updates            | 10          |\n",
      "|    policy_gradient_loss | -0.0102     |\n",
      "|    value_loss           | 51.6        |\n",
      "-----------------------------------------\n",
      "-----------------------------------------\n",
      "| rollout/                |             |\n",
      "|    ep_len_mean          | 60          |\n",
      "|    ep_rew_mean          | -31.4       |\n",
      "| time/                   |             |\n",
      "|    fps                  | 1053        |\n",
      "|    iterations           | 3           |\n",
      "|    time_elapsed         | 5           |\n",
      "|    total_timesteps      | 6144        |\n",
      "| train/                  |             |\n",
      "|    approx_kl            | 0.012363728 |\n",
      "|    clip_fraction        | 0.0747      |\n",
      "|    clip_range           | 0.2         |\n",
      "|    entropy_loss         | -1.09       |\n",
      "|    explained_variance   | -0.00524    |\n",
      "|    learning_rate        | 0.0003      |\n",
      "|    loss                 | 24.7        |\n",
      "|    n_updates            | 20          |\n",
      "|    policy_gradient_loss | -0.00715    |\n",
      "|    value_loss           | 51.5        |\n",
      "-----------------------------------------\n",
      "------------------------------------------\n",
      "| rollout/                |              |\n",
      "|    ep_len_mean          | 60           |\n",
      "|    ep_rew_mean          | -30.9        |\n",
      "| time/                   |              |\n",
      "|    fps                  | 1009         |\n",
      "|    iterations           | 4            |\n",
      "|    time_elapsed         | 8            |\n",
      "|    total_timesteps      | 8192         |\n",
      "| train/                  |              |\n",
      "|    approx_kl            | 0.0054293373 |\n",
      "|    clip_fraction        | 0.0487       |\n",
      "|    clip_range           | 0.2          |\n",
      "|    entropy_loss         | -1.08        |\n",
      "|    explained_variance   | -0.000168    |\n",
      "|    learning_rate        | 0.0003       |\n",
      "|    loss                 | 28.4         |\n",
      "|    n_updates            | 30           |\n",
      "|    policy_gradient_loss | -0.00328     |\n",
      "|    value_loss           | 66.9         |\n",
      "------------------------------------------\n",
      "-----------------------------------------\n",
      "| rollout/                |             |\n",
      "|    ep_len_mean          | 60          |\n",
      "|    ep_rew_mean          | -26         |\n",
      "| time/                   |             |\n",
      "|    fps                  | 983         |\n",
      "|    iterations           | 5           |\n",
      "|    time_elapsed         | 10          |\n",
      "|    total_timesteps      | 10240       |\n",
      "| train/                  |             |\n",
      "|    approx_kl            | 0.000790978 |\n",
      "|    clip_fraction        | 0.0138      |\n",
      "|    clip_range           | 0.2         |\n",
      "|    entropy_loss         | -1.08       |\n",
      "|    explained_variance   | -1.38e-05   |\n",
      "|    learning_rate        | 0.0003      |\n",
      "|    loss                 | 29          |\n",
      "|    n_updates            | 40          |\n",
      "|    policy_gradient_loss | -0.000543   |\n",
      "|    value_loss           | 69.9        |\n",
      "-----------------------------------------\n",
      "-----------------------------------------\n",
      "| rollout/                |             |\n",
      "|    ep_len_mean          | 60          |\n",
      "|    ep_rew_mean          | -23.3       |\n",
      "| time/                   |             |\n",
      "|    fps                  | 968         |\n",
      "|    iterations           | 6           |\n",
      "|    time_elapsed         | 12          |\n",
      "|    total_timesteps      | 12288       |\n",
      "| train/                  |             |\n",
      "|    approx_kl            | 0.010815041 |\n",
      "|    clip_fraction        | 0.0743      |\n",
      "|    clip_range           | 0.2         |\n",
      "|    entropy_loss         | -1.08       |\n",
      "|    explained_variance   | 1.08e-05    |\n",
      "|    learning_rate        | 0.0003      |\n",
      "|    loss                 | 33.2        |\n",
      "|    n_updates            | 50          |\n",
      "|    policy_gradient_loss | -0.00795    |\n",
      "|    value_loss           | 80.3        |\n",
      "-----------------------------------------\n",
      "------------------------------------------\n",
      "| rollout/                |              |\n",
      "|    ep_len_mean          | 60           |\n",
      "|    ep_rew_mean          | -26.3        |\n",
      "| time/                   |              |\n",
      "|    fps                  | 959          |\n",
      "|    iterations           | 7            |\n",
      "|    time_elapsed         | 14           |\n",
      "|    total_timesteps      | 14336        |\n",
      "| train/                  |              |\n",
      "|    approx_kl            | 0.0054330947 |\n",
      "|    clip_fraction        | 0.00854      |\n",
      "|    clip_range           | 0.2          |\n",
      "|    entropy_loss         | -1.08        |\n",
      "|    explained_variance   | -9.24e-05    |\n",
      "|    learning_rate        | 0.0003       |\n",
      "|    loss                 | 41.5         |\n",
      "|    n_updates            | 60           |\n",
      "|    policy_gradient_loss | -0.000743    |\n",
      "|    value_loss           | 80.1         |\n",
      "------------------------------------------\n",
      "-----------------------------------------\n",
      "| rollout/                |             |\n",
      "|    ep_len_mean          | 60          |\n",
      "|    ep_rew_mean          | -29         |\n",
      "| time/                   |             |\n",
      "|    fps                  | 952         |\n",
      "|    iterations           | 8           |\n",
      "|    time_elapsed         | 17          |\n",
      "|    total_timesteps      | 16384       |\n",
      "| train/                  |             |\n",
      "|    approx_kl            | 0.010602508 |\n",
      "|    clip_fraction        | 0.0431      |\n",
      "|    clip_range           | 0.2         |\n",
      "|    entropy_loss         | -1.07       |\n",
      "|    explained_variance   | 0.000786    |\n",
      "|    learning_rate        | 0.0003      |\n",
      "|    loss                 | 28.8        |\n",
      "|    n_updates            | 70          |\n",
      "|    policy_gradient_loss | -0.0031     |\n",
      "|    value_loss           | 76.1        |\n",
      "-----------------------------------------\n",
      "-----------------------------------------\n",
      "| rollout/                |             |\n",
      "|    ep_len_mean          | 60          |\n",
      "|    ep_rew_mean          | -31         |\n",
      "| time/                   |             |\n",
      "|    fps                  | 948         |\n",
      "|    iterations           | 9           |\n",
      "|    time_elapsed         | 19          |\n",
      "|    total_timesteps      | 18432       |\n",
      "| train/                  |             |\n",
      "|    approx_kl            | 0.008639116 |\n",
      "|    clip_fraction        | 0.0348      |\n",
      "|    clip_range           | 0.2         |\n",
      "|    entropy_loss         | -1.07       |\n",
      "|    explained_variance   | -1.91e-06   |\n",
      "|    learning_rate        | 0.0003      |\n",
      "|    loss                 | 41.9        |\n",
      "|    n_updates            | 80          |\n",
      "|    policy_gradient_loss | -0.00217    |\n",
      "|    value_loss           | 90.8        |\n",
      "-----------------------------------------\n",
      "------------------------------------------\n",
      "| rollout/                |              |\n",
      "|    ep_len_mean          | 60           |\n",
      "|    ep_rew_mean          | -27.4        |\n",
      "| time/                   |              |\n",
      "|    fps                  | 944          |\n",
      "|    iterations           | 10           |\n",
      "|    time_elapsed         | 21           |\n",
      "|    total_timesteps      | 20480        |\n",
      "| train/                  |              |\n",
      "|    approx_kl            | 0.0039352127 |\n",
      "|    clip_fraction        | 0.0723       |\n",
      "|    clip_range           | 0.2          |\n",
      "|    entropy_loss         | -1.07        |\n",
      "|    explained_variance   | -0.00114     |\n",
      "|    learning_rate        | 0.0003       |\n",
      "|    loss                 | 32.2         |\n",
      "|    n_updates            | 90           |\n",
      "|    policy_gradient_loss | -0.00607     |\n",
      "|    value_loss           | 74.7         |\n",
      "------------------------------------------\n"
     ]
    },
    {
     "name": "stdout",
     "output_type": "stream",
     "text": [
      "-----------------------------------------\n",
      "| rollout/                |             |\n",
      "|    ep_len_mean          | 60          |\n",
      "|    ep_rew_mean          | -24.4       |\n",
      "| time/                   |             |\n",
      "|    fps                  | 941         |\n",
      "|    iterations           | 11          |\n",
      "|    time_elapsed         | 23          |\n",
      "|    total_timesteps      | 22528       |\n",
      "| train/                  |             |\n",
      "|    approx_kl            | 0.012266371 |\n",
      "|    clip_fraction        | 0.03        |\n",
      "|    clip_range           | 0.2         |\n",
      "|    entropy_loss         | -1.09       |\n",
      "|    explained_variance   | 9.24e-06    |\n",
      "|    learning_rate        | 0.0003      |\n",
      "|    loss                 | 34.4        |\n",
      "|    n_updates            | 100         |\n",
      "|    policy_gradient_loss | -0.00358    |\n",
      "|    value_loss           | 75.4        |\n",
      "-----------------------------------------\n",
      "-----------------------------------------\n",
      "| rollout/                |             |\n",
      "|    ep_len_mean          | 60          |\n",
      "|    ep_rew_mean          | -21.5       |\n",
      "| time/                   |             |\n",
      "|    fps                  | 937         |\n",
      "|    iterations           | 12          |\n",
      "|    time_elapsed         | 26          |\n",
      "|    total_timesteps      | 24576       |\n",
      "| train/                  |             |\n",
      "|    approx_kl            | 0.011092597 |\n",
      "|    clip_fraction        | 0.0536      |\n",
      "|    clip_range           | 0.2         |\n",
      "|    entropy_loss         | -1.09       |\n",
      "|    explained_variance   | 0.000191    |\n",
      "|    learning_rate        | 0.0003      |\n",
      "|    loss                 | 36.6        |\n",
      "|    n_updates            | 110         |\n",
      "|    policy_gradient_loss | -0.00441    |\n",
      "|    value_loss           | 73.4        |\n",
      "-----------------------------------------\n",
      "-----------------------------------------\n",
      "| rollout/                |             |\n",
      "|    ep_len_mean          | 60          |\n",
      "|    ep_rew_mean          | -22         |\n",
      "| time/                   |             |\n",
      "|    fps                  | 935         |\n",
      "|    iterations           | 13          |\n",
      "|    time_elapsed         | 28          |\n",
      "|    total_timesteps      | 26624       |\n",
      "| train/                  |             |\n",
      "|    approx_kl            | 0.011056326 |\n",
      "|    clip_fraction        | 0.097       |\n",
      "|    clip_range           | 0.2         |\n",
      "|    entropy_loss         | -1.08       |\n",
      "|    explained_variance   | 0.00851     |\n",
      "|    learning_rate        | 0.0003      |\n",
      "|    loss                 | 31.9        |\n",
      "|    n_updates            | 120         |\n",
      "|    policy_gradient_loss | -0.00864    |\n",
      "|    value_loss           | 70.6        |\n",
      "-----------------------------------------\n",
      "-----------------------------------------\n",
      "| rollout/                |             |\n",
      "|    ep_len_mean          | 60          |\n",
      "|    ep_rew_mean          | -24.5       |\n",
      "| time/                   |             |\n",
      "|    fps                  | 933         |\n",
      "|    iterations           | 14          |\n",
      "|    time_elapsed         | 30          |\n",
      "|    total_timesteps      | 28672       |\n",
      "| train/                  |             |\n",
      "|    approx_kl            | 0.004476153 |\n",
      "|    clip_fraction        | 0.0722      |\n",
      "|    clip_range           | 0.2         |\n",
      "|    entropy_loss         | -1.06       |\n",
      "|    explained_variance   | 0.0116      |\n",
      "|    learning_rate        | 0.0003      |\n",
      "|    loss                 | 38.7        |\n",
      "|    n_updates            | 130         |\n",
      "|    policy_gradient_loss | -0.00726    |\n",
      "|    value_loss           | 71.8        |\n",
      "-----------------------------------------\n",
      "-----------------------------------------\n",
      "| rollout/                |             |\n",
      "|    ep_len_mean          | 60          |\n",
      "|    ep_rew_mean          | -25.2       |\n",
      "| time/                   |             |\n",
      "|    fps                  | 932         |\n",
      "|    iterations           | 15          |\n",
      "|    time_elapsed         | 32          |\n",
      "|    total_timesteps      | 30720       |\n",
      "| train/                  |             |\n",
      "|    approx_kl            | 0.008161079 |\n",
      "|    clip_fraction        | 0.112       |\n",
      "|    clip_range           | 0.2         |\n",
      "|    entropy_loss         | -1.06       |\n",
      "|    explained_variance   | -0.0341     |\n",
      "|    learning_rate        | 0.0003      |\n",
      "|    loss                 | 32          |\n",
      "|    n_updates            | 140         |\n",
      "|    policy_gradient_loss | -0.00755    |\n",
      "|    value_loss           | 70.6        |\n",
      "-----------------------------------------\n",
      "-----------------------------------------\n",
      "| rollout/                |             |\n",
      "|    ep_len_mean          | 60          |\n",
      "|    ep_rew_mean          | -25.3       |\n",
      "| time/                   |             |\n",
      "|    fps                  | 930         |\n",
      "|    iterations           | 16          |\n",
      "|    time_elapsed         | 35          |\n",
      "|    total_timesteps      | 32768       |\n",
      "| train/                  |             |\n",
      "|    approx_kl            | 0.012085965 |\n",
      "|    clip_fraction        | 0.0405      |\n",
      "|    clip_range           | 0.2         |\n",
      "|    entropy_loss         | -1.04       |\n",
      "|    explained_variance   | 0.00664     |\n",
      "|    learning_rate        | 0.0003      |\n",
      "|    loss                 | 46.7        |\n",
      "|    n_updates            | 150         |\n",
      "|    policy_gradient_loss | -0.00263    |\n",
      "|    value_loss           | 82.1        |\n",
      "-----------------------------------------\n",
      "------------------------------------------\n",
      "| rollout/                |              |\n",
      "|    ep_len_mean          | 60           |\n",
      "|    ep_rew_mean          | -20.3        |\n",
      "| time/                   |              |\n",
      "|    fps                  | 929          |\n",
      "|    iterations           | 17           |\n",
      "|    time_elapsed         | 37           |\n",
      "|    total_timesteps      | 34816        |\n",
      "| train/                  |              |\n",
      "|    approx_kl            | 0.0076763756 |\n",
      "|    clip_fraction        | 0.0646       |\n",
      "|    clip_range           | 0.2          |\n",
      "|    entropy_loss         | -0.99        |\n",
      "|    explained_variance   | 0.00536      |\n",
      "|    learning_rate        | 0.0003       |\n",
      "|    loss                 | 42.7         |\n",
      "|    n_updates            | 160          |\n",
      "|    policy_gradient_loss | -0.00398     |\n",
      "|    value_loss           | 81.5         |\n",
      "------------------------------------------\n",
      "------------------------------------------\n",
      "| rollout/                |              |\n",
      "|    ep_len_mean          | 60           |\n",
      "|    ep_rew_mean          | -17.2        |\n",
      "| time/                   |              |\n",
      "|    fps                  | 929          |\n",
      "|    iterations           | 18           |\n",
      "|    time_elapsed         | 39           |\n",
      "|    total_timesteps      | 36864        |\n",
      "| train/                  |              |\n",
      "|    approx_kl            | 0.0039142547 |\n",
      "|    clip_fraction        | 0.0287       |\n",
      "|    clip_range           | 0.2          |\n",
      "|    entropy_loss         | -0.981       |\n",
      "|    explained_variance   | -0.00425     |\n",
      "|    learning_rate        | 0.0003       |\n",
      "|    loss                 | 38           |\n",
      "|    n_updates            | 170          |\n",
      "|    policy_gradient_loss | -0.000545    |\n",
      "|    value_loss           | 75.8         |\n",
      "------------------------------------------\n",
      "------------------------------------------\n",
      "| rollout/                |              |\n",
      "|    ep_len_mean          | 60           |\n",
      "|    ep_rew_mean          | -13.9        |\n",
      "| time/                   |              |\n",
      "|    fps                  | 928          |\n",
      "|    iterations           | 19           |\n",
      "|    time_elapsed         | 41           |\n",
      "|    total_timesteps      | 38912        |\n",
      "| train/                  |              |\n",
      "|    approx_kl            | 0.0037715184 |\n",
      "|    clip_fraction        | 0.0752       |\n",
      "|    clip_range           | 0.2          |\n",
      "|    entropy_loss         | -0.979       |\n",
      "|    explained_variance   | 0.00093      |\n",
      "|    learning_rate        | 0.0003       |\n",
      "|    loss                 | 44           |\n",
      "|    n_updates            | 180          |\n",
      "|    policy_gradient_loss | -0.000259    |\n",
      "|    value_loss           | 74.1         |\n",
      "------------------------------------------\n",
      "------------------------------------------\n",
      "| rollout/                |              |\n",
      "|    ep_len_mean          | 60           |\n",
      "|    ep_rew_mean          | -12.4        |\n",
      "| time/                   |              |\n",
      "|    fps                  | 927          |\n",
      "|    iterations           | 20           |\n",
      "|    time_elapsed         | 44           |\n",
      "|    total_timesteps      | 40960        |\n",
      "| train/                  |              |\n",
      "|    approx_kl            | 0.0055201226 |\n",
      "|    clip_fraction        | 0.102        |\n",
      "|    clip_range           | 0.2          |\n",
      "|    entropy_loss         | -0.956       |\n",
      "|    explained_variance   | -0.00266     |\n",
      "|    learning_rate        | 0.0003       |\n",
      "|    loss                 | 34.6         |\n",
      "|    n_updates            | 190          |\n",
      "|    policy_gradient_loss | -0.00833     |\n",
      "|    value_loss           | 70.5         |\n",
      "------------------------------------------\n"
     ]
    },
    {
     "data": {
      "text/plain": [
       "<stable_baselines3.ppo.ppo.PPO at 0x1b315d15390>"
      ]
     },
     "execution_count": 16,
     "metadata": {},
     "output_type": "execute_result"
    }
   ],
   "source": [
    "model.learn(total_timesteps = 40000)"
   ]
  },
  {
   "cell_type": "markdown",
   "id": "a80b43ad",
   "metadata": {},
   "source": [
    "# 6. Save Model"
   ]
  },
  {
   "cell_type": "code",
   "execution_count": 18,
   "id": "e5aba09d",
   "metadata": {
    "ExecuteTime": {
     "end_time": "2022-06-28T09:31:15.137347Z",
     "start_time": "2022-06-28T09:31:15.121340Z"
    }
   },
   "outputs": [],
   "source": [
    "shower_path = os.path.join('Training','Saved Models','Shower_Model_PPO')"
   ]
  },
  {
   "cell_type": "code",
   "execution_count": 19,
   "id": "a6d756b8",
   "metadata": {
    "ExecuteTime": {
     "end_time": "2022-06-28T09:31:48.646239Z",
     "start_time": "2022-06-28T09:31:48.607263Z"
    }
   },
   "outputs": [],
   "source": [
    "model.save(shower_path)"
   ]
  },
  {
   "cell_type": "code",
   "execution_count": 25,
   "id": "4950fec1",
   "metadata": {
    "ExecuteTime": {
     "end_time": "2022-06-28T09:32:36.182119Z",
     "start_time": "2022-06-28T09:32:35.907263Z"
    }
   },
   "outputs": [
    {
     "data": {
      "text/plain": [
       "(-24.0, 54.99090833947008)"
      ]
     },
     "execution_count": 25,
     "metadata": {},
     "output_type": "execute_result"
    }
   ],
   "source": [
    "evaluate_policy(model, env, n_eval_episodes=10)"
   ]
  },
  {
   "cell_type": "code",
   "execution_count": null,
   "id": "3bb30d87",
   "metadata": {},
   "outputs": [],
   "source": []
  }
 ],
 "metadata": {
  "kernelspec": {
   "display_name": "baselines",
   "language": "python",
   "name": "baselines"
  },
  "language_info": {
   "codemirror_mode": {
    "name": "ipython",
    "version": 3
   },
   "file_extension": ".py",
   "mimetype": "text/x-python",
   "name": "python",
   "nbconvert_exporter": "python",
   "pygments_lexer": "ipython3",
   "version": "3.10.4"
  },
  "toc": {
   "base_numbering": 1,
   "nav_menu": {},
   "number_sections": true,
   "sideBar": true,
   "skip_h1_title": false,
   "title_cell": "Table of Contents",
   "title_sidebar": "Contents",
   "toc_cell": false,
   "toc_position": {},
   "toc_section_display": true,
   "toc_window_display": false
  }
 },
 "nbformat": 4,
 "nbformat_minor": 5
}
